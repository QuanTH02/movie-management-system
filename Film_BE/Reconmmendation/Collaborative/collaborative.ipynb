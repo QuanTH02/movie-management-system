{
 "cells": [
  {
   "cell_type": "code",
   "execution_count": 30,
   "metadata": {},
   "outputs": [],
   "source": [
    "import mysql.connector\n",
    "import pandas as pd\n",
    "from sklearn.feature_extraction.text import TfidfVectorizer\n",
    "from sklearn.metrics.pairwise import cosine_similarity\n",
    "import csv\n",
    "\n",
    "\n",
    "conn = mysql.connector.connect(host = \"localhost\", password = \"123456\", user = \"root\")\n",
    "mycursor = conn.cursor()\n",
    "\n",
    "str_select_all_movieinformation = \"SELECT * FROM `filmdata`.`movieinformation`;\" \n",
    "mycursor.execute(str_select_all_movieinformation)\n",
    "select_all_movieinformation = mycursor.fetchall() \n",
    "\n",
    "str_select_all_user_name_fake = \"SELECT * FROM `filmdata`.`user_name_fake`;\" \n",
    "mycursor.execute(str_select_all_user_name_fake)\n",
    "select_all_user_name = mycursor.fetchall()\n",
    "\n",
    "def rating_clean(rating):\n",
    "    if \"/\" in rating:\n",
    "        return int(rating.split(\"/\")[0])\n",
    "    return rating\n",
    "\n",
    "data = {\n",
    "    \"user_name\": [],\n",
    "    \"movie_id\": [],\n",
    "    \"rating\": []\n",
    "}\n",
    "\n",
    "csv_file_path = \"output.csv\""
   ]
  },
  {
   "cell_type": "code",
   "execution_count": 11,
   "metadata": {},
   "outputs": [],
   "source": [
    "with open(csv_file_path, mode='w', newline='') as file:\n",
    "    # Khởi tạo đối tượng ghi CSV\n",
    "    writer = csv.writer(file)\n",
    "    \n",
    "    writer.writerow([\"user_name\", \"movie_id\", \"rating\"])\n",
    "\n",
    "    if select_all_user_name:\n",
    "        for user_name in select_all_user_name:\n",
    "            # user_name\n",
    "            # print(\"User name: \" + user_name[0])\n",
    "\n",
    "            if select_all_movieinformation:\n",
    "                for movieinformation in select_all_movieinformation:        \n",
    "                    # print(\"Movie id: \" + str(movieinformation[0]))      \n",
    "                    data[\"user_name\"].append(user_name[0])\n",
    "                    data[\"movie_id\"].append(movieinformation[0])\n",
    "\n",
    "                    rating = False\n",
    "\n",
    "                    # rating in film_review\n",
    "                    str_select_film_review_movie_id = \"SELECT * FROM `filmdata`.`film_review` WHERE `name_review` = '\" + str(user_name[0]) + \"' AND `movie_id` = '\" + str(movieinformation[0]) + \"' AND `star_review` != '10/10';\"\n",
    "                    mycursor.execute(str_select_film_review_movie_id)\n",
    "                    select_film_review_movie_id = mycursor.fetchall()\n",
    "\n",
    "                    if select_film_review_movie_id:\n",
    "                        for film_review in select_film_review_movie_id:\n",
    "                            rating = rating_clean(film_review[2])\n",
    "                            data[\"rating\"].append(rating_clean(film_review[2]))\n",
    "                            # print(\"Rating: \" + rating_clean(film_review[2]))\n",
    "\n",
    "                    # rating in like_movie\n",
    "                    str_select_like_movie_movie_id = \"SELECT * FROM `filmdata`.`like_movie` WHERE `user_name` = '\" + str(user_name[0]) + \"' AND `movie_id` = '\" + str(movieinformation[0]) + \"';\"\n",
    "                    mycursor.execute(str_select_like_movie_movie_id)\n",
    "                    select_like_movie_movie_id = mycursor.fetchall()\n",
    "\n",
    "                    if select_like_movie_movie_id:\n",
    "                        for like_movie in select_like_movie_movie_id:\n",
    "                            rating = 10\n",
    "                            data[\"rating\"].append(10)\n",
    "\n",
    "                    if not rating:\n",
    "                        rating = 0\n",
    "                        data[\"rating\"].append(0)\n",
    "                        # print(\"Rating: 0\")\n",
    "\n",
    "                    data_csv = {}\n",
    "\n",
    "                    data_csv[\"user_name\"] = user_name[0]\n",
    "                    data_csv[\"movie_id\"] = movieinformation[0]\n",
    "                    data_csv[\"rating\"] = rating\n",
    "\n",
    "                    writer.writerow([data_csv[\"user_name\"], data_csv[\"movie_id\"], data_csv[\"rating\"]])\n",
    "\n",
    "            # print(data)\n"
   ]
  },
  {
   "cell_type": "code",
   "execution_count": 31,
   "metadata": {},
   "outputs": [
    {
     "name": "stdout",
     "output_type": "stream",
     "text": [
      "      user_name  movie_id  rating\n",
      "0  04GreatFlick         2       0\n",
      "1  04GreatFlick         3       0\n",
      "2  04GreatFlick         4       0\n",
      "3  04GreatFlick         5       0\n",
      "4  04GreatFlick         6      10\n"
     ]
    }
   ],
   "source": [
    "df_read = pd.read_csv(\"output.csv\")\n",
    "\n",
    "# Chọn các cột user_name, movie_id và rating\n",
    "selected_columns = [\"user_name\", \"movie_id\", \"rating\"]\n",
    "df = df_read[selected_columns]\n",
    "\n",
    "# Hiển thị DataFrame\n",
    "print(df.head())"
   ]
  },
  {
   "cell_type": "code",
   "execution_count": 32,
   "metadata": {},
   "outputs": [
    {
     "name": "stdout",
     "output_type": "stream",
     "text": [
      "<class 'pandas.core.frame.DataFrame'>\n",
      "RangeIndex: 362095 entries, 0 to 362094\n",
      "Data columns (total 3 columns):\n",
      " #   Column     Non-Null Count   Dtype \n",
      "---  ------     --------------   ----- \n",
      " 0   user_name  362095 non-null  object\n",
      " 1   movie_id   362095 non-null  int64 \n",
      " 2   rating     362095 non-null  int64 \n",
      "dtypes: int64(2), object(1)\n",
      "memory usage: 8.3+ MB\n",
      "None\n",
      "            movie_id         rating\n",
      "count  362095.000000  362095.000000\n",
      "mean       71.000000       0.650752\n",
      "std        40.124861       2.434201\n",
      "min         2.000000       0.000000\n",
      "25%        36.000000       0.000000\n",
      "50%        71.000000       0.000000\n",
      "75%       106.000000       0.000000\n",
      "max       140.000000      10.000000\n",
      "user_name    0\n",
      "movie_id     0\n",
      "rating       0\n",
      "dtype: int64\n"
     ]
    }
   ],
   "source": [
    "# Xem thông tin cơ bản của DataFrame\n",
    "print(df.info())\n",
    "\n",
    "# Xem các thống kê mô tả của dữ liệu\n",
    "print(df.describe())\n",
    "\n",
    "# Kiểm tra các giá trị thiếu\n",
    "print(df.isnull().sum())"
   ]
  },
  {
   "cell_type": "code",
   "execution_count": 33,
   "metadata": {},
   "outputs": [
    {
     "name": "stdout",
     "output_type": "stream",
     "text": [
      "          movie_id    rating\n",
      "movie_id  1.000000  0.000441\n",
      "rating    0.000441  1.000000\n"
     ]
    },
    {
     "data": {
      "image/png": "[encoded data removed]",
      "text/plain": [
       "<Figure size 640x480 with 2 Axes>"
      ]
     },
     "metadata": {},
     "output_type": "display_data"
    }
   ],
   "source": [
    "import seaborn as sns\n",
    "import matplotlib.pyplot as plt\n",
    "\n",
    "# Chọn các cột chỉ chứa dữ liệu số\n",
    "df_numeric = df.select_dtypes(include=['int64', 'float64'])\n",
    "\n",
    "# Tính toán ma trận tương quan\n",
    "correlation_matrix = df_numeric.corr()\n",
    "print(correlation_matrix)\n",
    "\n",
    "# Vẽ biểu đồ tương quan\n",
    "sns.heatmap(correlation_matrix, annot=True, cmap='coolwarm')\n",
    "plt.show()\n"
   ]
  },
  {
   "cell_type": "code",
   "execution_count": 45,
   "metadata": {},
   "outputs": [
    {
     "name": "stdout",
     "output_type": "stream",
     "text": [
      "RMSE: 2.7939\n"
     ]
    },
    {
     "data": {
      "text/plain": [
       "2.7939493946342617"
      ]
     },
     "execution_count": 45,
     "metadata": {},
     "output_type": "execute_result"
    }
   ],
   "source": [
    "from surprise import Dataset, Reader\n",
    "from surprise.model_selection import train_test_split\n",
    "from surprise import SVD\n",
    "from surprise import accuracy\n",
    "\n",
    "# Tạo Reader và Dataset từ DataFrame\n",
    "reader = Reader(rating_scale=(1, 10))\n",
    "dataset = Dataset.load_from_df(df[['user_name', 'movie_id', 'rating']], reader)\n",
    "\n",
    "# Chia tập dữ liệu thành tập huấn luyện và tập kiểm tra\n",
    "trainset, testset = train_test_split(dataset, test_size=0.2)\n",
    "\n",
    "# Huấn luyện mô hình\n",
    "model = SVD()\n",
    "model.fit(trainset)\n",
    "\n",
    "# Dự đoán và đánh giá mô hình\n",
    "predictions = model.test(testset)\n",
    "accuracy.rmse(predictions)\n"
   ]
  },
  {
   "cell_type": "code",
   "execution_count": 50,
   "metadata": {},
   "outputs": [],
   "source": [
    "movie_id_list = df['movie_id'].unique()\n",
    "\n",
    "user_name = \"0rbita1\"\n",
    "movies_to_predict = [movie_id for movie_id in movie_id_list if movie_id not in df[df['user_name'] == user_name]['movie_id']]\n",
    "predicted_ratings  = [model.predict(user_name, movie_id) for movie_id in movies_to_predict]\n"
   ]
  },
  {
   "cell_type": "code",
   "execution_count": 53,
   "metadata": {},
   "outputs": [
    {
     "name": "stdout",
     "output_type": "stream",
     "text": [
      "Top 10 recommended movies for user 0rbita1\n",
      "Movie ID: 4 | Estimated Rating: 8.79\n",
      "Movie ID: 89 | Estimated Rating: 8.78\n",
      "Movie ID: 88 | Estimated Rating: 8.61\n",
      "Movie ID: 107 | Estimated Rating: 8.06\n",
      "Movie ID: 66 | Estimated Rating: 7.97\n",
      "Movie ID: 62 | Estimated Rating: 7.81\n",
      "Movie ID: 27 | Estimated Rating: 7.49\n",
      "Movie ID: 137 | Estimated Rating: 7.45\n",
      "Movie ID: 6 | Estimated Rating: 6.83\n",
      "Movie ID: 65 | Estimated Rating: 5.46\n"
     ]
    }
   ],
   "source": [
    "# Sắp xếp các đề xuất dựa trên điểm dự đoán (est)\n",
    "recommended_movies = sorted(predicted_ratings, key=lambda x: x.est, reverse=True)[:10]\n",
    "print(\"Top 10 recommended movies for user\", user_name)\n",
    "for movie in recommended_movies:\n",
    "    print(\"Movie ID:\", movie.iid, \"| Estimated Rating:\", round(movie.est, 2))"
   ]
  }
 ],
 "metadata": {
  "kernelspec": {
   "display_name": "Python 3",
   "language": "python",
   "name": "python3"
  },
  "language_info": {
   "codemirror_mode": {
    "name": "ipython",
    "version": 3
   },
   "file_extension": ".py",
   "mimetype": "text/x-python",
   "name": "python",
   "nbconvert_exporter": "python",
   "pygments_lexer": "ipython3",
   "version": "3.11.3"
  }
 },
 "nbformat": 4,
 "nbformat_minor": 2
}
